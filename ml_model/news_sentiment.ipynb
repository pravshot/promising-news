{
 "cells": [
  {
   "cell_type": "code",
   "execution_count": 1,
   "metadata": {},
   "outputs": [],
   "source": [
    "import pandas as pd\n",
    "import numpy as np\n",
    "import tensorflow as tf\n",
    "import tensorflow.keras as keras\n",
    "import tensorflow.keras.layers as layers\n",
    "# import tensorflowjs as tfjs\n",
    "from vaderSentiment.vaderSentiment import SentimentIntensityAnalyzer\n",
    "from sklearn.model_selection import train_test_split\n",
    "from nltk.corpus import stopwords"
   ]
  },
  {
   "cell_type": "code",
   "execution_count": 2,
   "metadata": {},
   "outputs": [
    {
     "name": "stdout",
     "output_type": "stream",
     "text": [
      "   ID                                              TITLE  \\\n",
      "0   1  Fed official says weak data caused by weather,...   \n",
      "1   2  Fed's Charles Plosser sees high bar for change...   \n",
      "2   3  US open: Stocks fall after Fed official hints ...   \n",
      "3   4  Fed risks falling 'behind the curve', Charles ...   \n",
      "4   5  Fed's Plosser: Nasty Weather Has Curbed Job Gr...   \n",
      "\n",
      "                                                 URL          PUBLISHER  \\\n",
      "0  http://www.latimes.com/business/money/la-fi-mo...  Los Angeles Times   \n",
      "1  http://www.livemint.com/Politics/H2EvwJSK2VE6O...           Livemint   \n",
      "2  http://www.ifamagazine.com/news/us-open-stocks...       IFA Magazine   \n",
      "3  http://www.ifamagazine.com/news/fed-risks-fall...       IFA Magazine   \n",
      "4  http://www.moneynews.com/Economy/federal-reser...          Moneynews   \n",
      "\n",
      "  CATEGORY                          STORY             HOSTNAME      TIMESTAMP  \n",
      "0        b  ddUyU0VZz0BRneMioxUPQVP6sIxvM      www.latimes.com  1394470370698  \n",
      "1        b  ddUyU0VZz0BRneMioxUPQVP6sIxvM     www.livemint.com  1394470371207  \n",
      "2        b  ddUyU0VZz0BRneMioxUPQVP6sIxvM  www.ifamagazine.com  1394470371550  \n",
      "3        b  ddUyU0VZz0BRneMioxUPQVP6sIxvM  www.ifamagazine.com  1394470371793  \n",
      "4        b  ddUyU0VZz0BRneMioxUPQVP6sIxvM    www.moneynews.com  1394470372027  \n",
      "Index(['ID', 'TITLE', 'URL', 'PUBLISHER', 'CATEGORY', 'STORY', 'HOSTNAME',\n",
      "       'TIMESTAMP'],\n",
      "      dtype='object')\n"
     ]
    }
   ],
   "source": [
    "# load data\n",
    "df = pd.read_csv('/Users/praveenkalva/Downloads/uci-news-aggregator.csv')\n",
    "print(df.head())\n",
    "print(df.columns)"
   ]
  },
  {
   "cell_type": "code",
   "execution_count": 3,
   "metadata": {},
   "outputs": [
    {
     "data": {
      "text/html": [
       "<div>\n",
       "<style scoped>\n",
       "    .dataframe tbody tr th:only-of-type {\n",
       "        vertical-align: middle;\n",
       "    }\n",
       "\n",
       "    .dataframe tbody tr th {\n",
       "        vertical-align: top;\n",
       "    }\n",
       "\n",
       "    .dataframe thead th {\n",
       "        text-align: right;\n",
       "    }\n",
       "</style>\n",
       "<table border=\"1\" class=\"dataframe\">\n",
       "  <thead>\n",
       "    <tr style=\"text-align: right;\">\n",
       "      <th></th>\n",
       "      <th>title</th>\n",
       "    </tr>\n",
       "  </thead>\n",
       "  <tbody>\n",
       "    <tr>\n",
       "      <th>0</th>\n",
       "      <td>Fed official says weak data caused by weather,...</td>\n",
       "    </tr>\n",
       "    <tr>\n",
       "      <th>1</th>\n",
       "      <td>Fed's Charles Plosser sees high bar for change...</td>\n",
       "    </tr>\n",
       "    <tr>\n",
       "      <th>2</th>\n",
       "      <td>US open: Stocks fall after Fed official hints ...</td>\n",
       "    </tr>\n",
       "    <tr>\n",
       "      <th>3</th>\n",
       "      <td>Fed risks falling 'behind the curve', Charles ...</td>\n",
       "    </tr>\n",
       "    <tr>\n",
       "      <th>4</th>\n",
       "      <td>Fed's Plosser: Nasty Weather Has Curbed Job Gr...</td>\n",
       "    </tr>\n",
       "  </tbody>\n",
       "</table>\n",
       "</div>"
      ],
      "text/plain": [
       "                                               title\n",
       "0  Fed official says weak data caused by weather,...\n",
       "1  Fed's Charles Plosser sees high bar for change...\n",
       "2  US open: Stocks fall after Fed official hints ...\n",
       "3  Fed risks falling 'behind the curve', Charles ...\n",
       "4  Fed's Plosser: Nasty Weather Has Curbed Job Gr..."
      ]
     },
     "execution_count": 3,
     "metadata": {},
     "output_type": "execute_result"
    }
   ],
   "source": [
    "# only keep title\n",
    "df.drop(columns=['ID', 'URL', 'PUBLISHER', 'CATEGORY', 'STORY', 'HOSTNAME',\n",
    "       'TIMESTAMP'], inplace=True)\n",
    "df.rename(columns={'TITLE': 'title'}, inplace=True)\n",
    "df.head()"
   ]
  },
  {
   "cell_type": "code",
   "execution_count": 4,
   "metadata": {},
   "outputs": [],
   "source": [
    "# use sentiment analyzer to get sentiment score for each title\n",
    "# to use in unsupervised learning\n",
    "sia = SentimentIntensityAnalyzer()\n",
    "def sentiment_score(text):\n",
    "    score = sia.polarity_scores(text)\n",
    "    return score['compound']\n",
    "# get sentiment score to each title\n",
    "df['compound_score'] = df['title'].map(sentiment_score)"
   ]
  },
  {
   "cell_type": "code",
   "execution_count": 5,
   "metadata": {},
   "outputs": [
    {
     "name": "stdout",
     "output_type": "stream",
     "text": [
      "                                                title  compound_score  \\\n",
      "0   Fed official says weak data caused by weather,...         -0.4404   \n",
      "3   Fed risks falling 'behind the curve', Charles ...         -0.4019   \n",
      "7   Fed's Plosser expects US unemployment to fall ...         -0.4404   \n",
      "13  ECB FOCUS-Stronger euro drowns out ECB's messa...         -0.6486   \n",
      "14         EU aims for deal on tackling failing banks         -0.5106   \n",
      "\n",
      "   pos_label  \n",
      "0          0  \n",
      "3          0  \n",
      "7          0  \n",
      "13         0  \n",
      "14         0  \n"
     ]
    }
   ],
   "source": [
    "# create label column with 0 for negative and 1 for positive\n",
    "# and only look at sentiment score greater than 0.4 in magnitude\n",
    "def label_score(score):\n",
    "    if score > 0.4:\n",
    "        return 1\n",
    "    elif score < -0.4:\n",
    "        return 0\n",
    "    else: \n",
    "        return pd.NA\n",
    "\n",
    "df['pos_label'] = df['compound_score'].map(label_score)\n",
    "# drop rows with NA values\n",
    "df.dropna(inplace=True)\n",
    "print(df.head())"
   ]
  },
  {
   "cell_type": "code",
   "execution_count": 6,
   "metadata": {},
   "outputs": [],
   "source": [
    "# split data into train and test\n",
    "X = df['title']\n",
    "y = df['pos_label']\n",
    "\n",
    "X_train, X_test, y_train, y_test = train_test_split(X, y, test_size=0.2, random_state=42)"
   ]
  },
  {
   "cell_type": "code",
   "execution_count": 19,
   "metadata": {},
   "outputs": [],
   "source": [
    "stop_words = stopwords.words(\"english\")\n",
    "# define preprocessing steps\n",
    "def preprocess(text):\n",
    "    # lowercase\n",
    "    text = tf.strings.lower(text)\n",
    "    # remove punctuation\n",
    "    text = tf.strings.regex_replace(text, '[^\\w\\s]', '')\n",
    "    # remove stop_words\n",
    "    text = tf.strings.regex_replace(text, r'\\b(' + r'|'.join(stop_words) + r')\\b\\s*', '')\n",
    "    return text"
   ]
  },
  {
   "cell_type": "code",
   "execution_count": 8,
   "metadata": {},
   "outputs": [
    {
     "name": "stdout",
     "output_type": "stream",
     "text": [
      "Metal device set to: Apple M1\n",
      "\n",
      "systemMemory: 8.00 GB\n",
      "maxCacheSize: 2.67 GB\n",
      "\n"
     ]
    },
    {
     "name": "stderr",
     "output_type": "stream",
     "text": [
      "2022-08-11 18:51:07.959117: I tensorflow/core/common_runtime/pluggable_device/pluggable_device_factory.cc:305] Could not identify NUMA node of platform GPU ID 0, defaulting to 0. Your kernel may not have been built with NUMA support.\n",
      "2022-08-11 18:51:07.959422: I tensorflow/core/common_runtime/pluggable_device/pluggable_device_factory.cc:271] Created TensorFlow device (/job:localhost/replica:0/task:0/device:GPU:0 with 0 MB memory) -> physical PluggableDevice (device: 0, name: METAL, pci bus id: <undefined>)\n"
     ]
    }
   ],
   "source": [
    "# define TextVectorizer and parameters\n",
    "MAX_FEATURES = 20000\n",
    "SEQUENCE_LENGTH = 15\n",
    "\n",
    "vectorize_layer = layers.TextVectorization(\n",
    "    standardize=preprocess,\n",
    "    max_tokens=MAX_FEATURES,\n",
    "    output_mode='int',\n",
    "    output_sequence_length=SEQUENCE_LENGTH,\n",
    "    split='whitespace'\n",
    ")"
   ]
  },
  {
   "cell_type": "code",
   "execution_count": 9,
   "metadata": {},
   "outputs": [
    {
     "name": "stderr",
     "output_type": "stream",
     "text": [
      "2022-08-11 18:51:11.822502: W tensorflow/core/platform/profile_utils/cpu_utils.cc:128] Failed to get CPU frequency: 0 Hz\n",
      "2022-08-11 18:51:11.889468: I tensorflow/core/grappler/optimizers/custom_graph_optimizer_registry.cc:113] Plugin optimizer for device_type GPU is enabled.\n"
     ]
    }
   ],
   "source": [
    "# adapt vectorize layer on training data\n",
    "vectorize_layer.adapt(X_train)\n",
    "# vectorize training and testing data\n",
    "X_train_vectorized = vectorize_layer(X_train)\n",
    "X_test_vectorized = vectorize_layer(X_test)\n",
    "# check y dtypes\n",
    "y_train = y_train.astype('int32')\n",
    "y_test = y_test.astype('int32')"
   ]
  },
  {
   "cell_type": "code",
   "execution_count": 21,
   "metadata": {},
   "outputs": [
    {
     "name": "stdout",
     "output_type": "stream",
     "text": [
      "Model: \"sequential_2\"\n",
      "_________________________________________________________________\n",
      " Layer (type)                Output Shape              Param #   \n",
      "=================================================================\n",
      " embedding_1 (Embedding)     (None, 15, 32)            640000    \n",
      "                                                                 \n",
      " lstm_1 (LSTM)               (None, 16)                3136      \n",
      "                                                                 \n",
      " dense_1 (Dense)             (None, 1)                 17        \n",
      "                                                                 \n",
      "=================================================================\n",
      "Total params: 643,153\n",
      "Trainable params: 643,153\n",
      "Non-trainable params: 0\n",
      "_________________________________________________________________\n"
     ]
    }
   ],
   "source": [
    "# define model\n",
    "embedding_dim = 32\n",
    "model = keras.Sequential([\n",
    "    layers.Embedding(MAX_FEATURES, embedding_dim, input_length=SEQUENCE_LENGTH),\n",
    "    layers.LSTM(16),\n",
    "    layers.Dense(1, activation='sigmoid')\n",
    "])\n",
    "\n",
    "model.compile(loss='binary_crossentropy', optimizer='adam', metrics=['accuracy'])\n",
    "model.summary()"
   ]
  },
  {
   "cell_type": "code",
   "execution_count": 11,
   "metadata": {},
   "outputs": [
    {
     "name": "stdout",
     "output_type": "stream",
     "text": [
      "Epoch 1/10\n"
     ]
    },
    {
     "name": "stderr",
     "output_type": "stream",
     "text": [
      "2022-08-11 18:51:27.451513: I tensorflow/core/grappler/optimizers/custom_graph_optimizer_registry.cc:113] Plugin optimizer for device_type GPU is enabled.\n",
      "2022-08-11 18:51:27.656667: I tensorflow/core/grappler/optimizers/custom_graph_optimizer_registry.cc:113] Plugin optimizer for device_type GPU is enabled.\n",
      "2022-08-11 18:51:27.826082: I tensorflow/core/grappler/optimizers/custom_graph_optimizer_registry.cc:113] Plugin optimizer for device_type GPU is enabled.\n"
     ]
    },
    {
     "name": "stdout",
     "output_type": "stream",
     "text": [
      "388/388 [==============================] - 9s 20ms/step - loss: 0.2209 - accuracy: 0.9002\n",
      "Epoch 2/10\n",
      "388/388 [==============================] - 7s 18ms/step - loss: 0.0575 - accuracy: 0.9860\n",
      "Epoch 3/10\n",
      "388/388 [==============================] - 7s 19ms/step - loss: 0.0423 - accuracy: 0.9902\n",
      "Epoch 4/10\n",
      "388/388 [==============================] - 7s 18ms/step - loss: 0.0352 - accuracy: 0.9921\n",
      "Epoch 5/10\n",
      "388/388 [==============================] - 7s 18ms/step - loss: 0.0313 - accuracy: 0.9930\n",
      "Epoch 6/10\n",
      "388/388 [==============================] - 7s 18ms/step - loss: 0.0268 - accuracy: 0.9941\n",
      "Epoch 7/10\n",
      "388/388 [==============================] - 7s 18ms/step - loss: 0.0238 - accuracy: 0.9948\n",
      "Epoch 8/10\n",
      "388/388 [==============================] - 7s 18ms/step - loss: 0.0202 - accuracy: 0.9958\n",
      "Epoch 9/10\n",
      "388/388 [==============================] - 7s 18ms/step - loss: 0.0188 - accuracy: 0.9960\n",
      "Epoch 10/10\n",
      "388/388 [==============================] - 7s 18ms/step - loss: 0.0164 - accuracy: 0.9966\n"
     ]
    }
   ],
   "source": [
    "# train model\n",
    "history = model.fit(X_train_vectorized, y_train, epochs=10, batch_size=256)"
   ]
  },
  {
   "cell_type": "code",
   "execution_count": 12,
   "metadata": {},
   "outputs": [
    {
     "name": "stderr",
     "output_type": "stream",
     "text": [
      "2022-08-11 18:58:19.025074: I tensorflow/core/grappler/optimizers/custom_graph_optimizer_registry.cc:113] Plugin optimizer for device_type GPU is enabled.\n",
      "2022-08-11 18:58:19.152475: I tensorflow/core/grappler/optimizers/custom_graph_optimizer_registry.cc:113] Plugin optimizer for device_type GPU is enabled.\n"
     ]
    },
    {
     "name": "stdout",
     "output_type": "stream",
     "text": [
      "776/776 [==============================] - 5s 6ms/step - loss: 0.1101 - accuracy: 0.9728\n",
      "loss 0.11007792502641678\n",
      "accuracy 0.9727628231048584\n"
     ]
    }
   ],
   "source": [
    "# evaluate model\n",
    "loss, accuracy = model.evaluate(X_test_vectorized, y_test)\n",
    "print(\"loss\", loss)\n",
    "print(\"accuracy\", accuracy)"
   ]
  },
  {
   "cell_type": "code",
   "execution_count": 22,
   "metadata": {},
   "outputs": [
    {
     "name": "stderr",
     "output_type": "stream",
     "text": [
      "2022-08-11 19:12:07.600213: I tensorflow/core/grappler/optimizers/custom_graph_optimizer_registry.cc:113] Plugin optimizer for device_type GPU is enabled.\n"
     ]
    },
    {
     "name": "stdout",
     "output_type": "stream",
     "text": [
      "Epoch 1/10\n"
     ]
    },
    {
     "name": "stderr",
     "output_type": "stream",
     "text": [
      "2022-08-11 19:12:11.398346: I tensorflow/core/grappler/optimizers/custom_graph_optimizer_registry.cc:113] Plugin optimizer for device_type GPU is enabled.\n",
      "2022-08-11 19:12:11.633371: I tensorflow/core/grappler/optimizers/custom_graph_optimizer_registry.cc:113] Plugin optimizer for device_type GPU is enabled.\n",
      "2022-08-11 19:12:11.784591: I tensorflow/core/grappler/optimizers/custom_graph_optimizer_registry.cc:113] Plugin optimizer for device_type GPU is enabled.\n"
     ]
    },
    {
     "name": "stdout",
     "output_type": "stream",
     "text": [
      "485/485 [==============================] - 11s 20ms/step - loss: 0.1888 - accuracy: 0.9173\n",
      "Epoch 2/10\n",
      "485/485 [==============================] - 9s 19ms/step - loss: 0.0528 - accuracy: 0.9866\n",
      "Epoch 3/10\n",
      "485/485 [==============================] - 9s 19ms/step - loss: 0.0382 - accuracy: 0.9904\n",
      "Epoch 4/10\n",
      "485/485 [==============================] - 9s 19ms/step - loss: 0.0285 - accuracy: 0.9922\n",
      "Epoch 5/10\n",
      "485/485 [==============================] - 9s 18ms/step - loss: 0.0225 - accuracy: 0.9933\n",
      "Epoch 6/10\n",
      "485/485 [==============================] - 9s 18ms/step - loss: 0.0190 - accuracy: 0.9941\n",
      "Epoch 7/10\n",
      "485/485 [==============================] - 9s 19ms/step - loss: 0.0165 - accuracy: 0.9945\n",
      "Epoch 8/10\n",
      "485/485 [==============================] - 9s 18ms/step - loss: 0.0128 - accuracy: 0.9955\n",
      "Epoch 9/10\n",
      "485/485 [==============================] - 9s 19ms/step - loss: 0.0118 - accuracy: 0.9959\n",
      "Epoch 10/10\n",
      "485/485 [==============================] - 9s 18ms/step - loss: 0.0095 - accuracy: 0.9968\n"
     ]
    },
    {
     "data": {
      "text/plain": [
       "<keras.callbacks.History at 0x1696e5e10>"
      ]
     },
     "execution_count": 22,
     "metadata": {},
     "output_type": "execute_result"
    }
   ],
   "source": [
    "# model looks good, so retrain on all data!\n",
    "final_vectorize_layer = layers.TextVectorization(\n",
    "    standardize=None,\n",
    "    max_tokens=MAX_FEATURES,\n",
    "    output_mode='int',\n",
    "    output_sequence_length=SEQUENCE_LENGTH,\n",
    "    split='whitespace'\n",
    ")\n",
    "\n",
    "final_vectorize_layer.adapt(preprocess(X))\n",
    "X_vectorized = final_vectorize_layer(preprocess(X))\n",
    "y = y.astype('int32')\n",
    "\n",
    "model.fit(X_vectorized, y, epochs=10, batch_size=256)"
   ]
  },
  {
   "cell_type": "code",
   "execution_count": 23,
   "metadata": {},
   "outputs": [],
   "source": [
    "# create inference model\n",
    "export_model = tf.keras.Sequential([\n",
    "  layers.Input(shape=(1), dtype='string'),\n",
    "  final_vectorize_layer,\n",
    "  model,\n",
    "])\n",
    "\n",
    "export_model.compile(loss='binary_crossentropy', optimizer='adam', metrics=['accuracy'])"
   ]
  },
  {
   "cell_type": "code",
   "execution_count": 24,
   "metadata": {},
   "outputs": [
    {
     "name": "stdout",
     "output_type": "stream",
     "text": [
      "1/1 [==============================] - 0s 312ms/step\n",
      "[[0.004]\n",
      " [0.   ]\n",
      " [0.001]\n",
      " [0.026]\n",
      " [0.998]\n",
      " [0.999]]\n"
     ]
    },
    {
     "name": "stderr",
     "output_type": "stream",
     "text": [
      "2022-08-11 19:14:28.325316: I tensorflow/core/grappler/optimizers/custom_graph_optimizer_registry.cc:113] Plugin optimizer for device_type GPU is enabled.\n",
      "2022-08-11 19:14:28.408431: I tensorflow/core/grappler/optimizers/custom_graph_optimizer_registry.cc:113] Plugin optimizer for device_type GPU is enabled.\n"
     ]
    }
   ],
   "source": [
    "# check that model is working on some test strings\n",
    "examples = [\n",
    "    \"CDC eases Covid guidance as U.S. has more tools to fight the virus and keep people out of the hospital\",\n",
    "    \"What happens if Ukraine’s Zaporizhzhia nuclear plant explodes?\",\n",
    "    \"Disordered eating in children: Boys and girls face similar risk\",\n",
    "    \"House explodes in Evansville, Indiana, leaving 3 dead and nearby homes 'uninhabitable'\",\n",
    "    \"Solar Company Gets Bright Idea to Cover Storage Facilities in Solar Panels—Brings Power to 1,400 Homes\",\n",
    "    \"Switzerland’s Brilliant Plan For Underground Cargo Delivery Tunnels to Reduce Traffic is Now Underway\"\n",
    "]\n",
    "# pos, neg, neg, neg, pos, pos\n",
    "\n",
    "res = export_model.predict(preprocess(examples))\n",
    "res = np.around(res, decimals=3)\n",
    "print(res)"
   ]
  },
  {
   "cell_type": "code",
   "execution_count": 25,
   "metadata": {},
   "outputs": [
    {
     "name": "stderr",
     "output_type": "stream",
     "text": [
      "WARNING:absl:Found untraced functions such as lstm_cell_1_layer_call_fn, lstm_cell_1_layer_call_and_return_conditional_losses while saving (showing 2 of 2). These functions will not be directly callable after loading.\n"
     ]
    },
    {
     "name": "stdout",
     "output_type": "stream",
     "text": [
      "INFO:tensorflow:Assets written to: ./pos_news_model/assets\n"
     ]
    },
    {
     "name": "stderr",
     "output_type": "stream",
     "text": [
      "INFO:tensorflow:Assets written to: ./pos_news_model/assets\n"
     ]
    }
   ],
   "source": [
    "# save model\n",
    "#export_model.save('./pos_news_model.h5') # h5 format\n",
    "export_model.save('./pos_news_model', save_traces=True) # tf saved model format"
   ]
  },
  {
   "cell_type": "code",
   "execution_count": null,
   "metadata": {},
   "outputs": [],
   "source": []
  }
 ],
 "metadata": {
  "kernelspec": {
   "display_name": "Python 3.10.5 ('base')",
   "language": "python",
   "name": "python3"
  },
  "language_info": {
   "codemirror_mode": {
    "name": "ipython",
    "version": 3
   },
   "file_extension": ".py",
   "mimetype": "text/x-python",
   "name": "python",
   "nbconvert_exporter": "python",
   "pygments_lexer": "ipython3",
   "version": "3.10.5"
  },
  "orig_nbformat": 4,
  "vscode": {
   "interpreter": {
    "hash": "c6e4e9f98eb68ad3b7c296f83d20e6de614cb42e90992a65aa266555a3137d0d"
   }
  }
 },
 "nbformat": 4,
 "nbformat_minor": 2
}
